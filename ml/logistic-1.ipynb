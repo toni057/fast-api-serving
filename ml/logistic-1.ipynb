{
 "cells": [
  {
   "cell_type": "code",
   "execution_count": 1,
   "metadata": {},
   "outputs": [],
   "source": [
    "import numpy as np\n",
    "import pandas as pd\n",
    "import sklearn"
   ]
  },
  {
   "cell_type": "code",
   "execution_count": 7,
   "metadata": {},
   "outputs": [
    {
     "name": "stdout",
     "output_type": "stream",
     "text": [
      "numpy==1.18.1\n",
      "pandas==0.25.3\n",
      "scikit-leran==0.23.1\n"
     ]
    }
   ],
   "source": [
    "print(\"numpy==%s\" %np.__version__)\n",
    "print(\"pandas==%s\" %pd.__version__)\n",
    "print(\"scikit-leran==%s\" %sklearn.__version__)"
   ]
  },
  {
   "cell_type": "code",
   "execution_count": 2,
   "metadata": {},
   "outputs": [],
   "source": [
    "from sklearn.preprocessing import OneHotEncoder\n",
    "d = pd.read_json(\"../data/iris.json\")\n",
    "\n",
    "ohe = OneHotEncoder()\n",
    "x = ohe.fit_transform(d[['Species']])\n",
    "x = np.array(x.todense()).T\n",
    "# del d['Species']\n",
    "\n",
    "for i, species in enumerate(ohe.categories_[0]):\n",
    "    d[species] = x[i]"
   ]
  },
  {
   "cell_type": "code",
   "execution_count": 3,
   "metadata": {},
   "outputs": [],
   "source": [
    "sample = np.random.choice(range(150), 130, False)\n",
    "mask = np.zeros(150, dtype=bool)\n",
    "mask[sample] = True\n",
    "\n",
    "d.loc[mask].to_json(\"../data/train.json\")\n",
    "d.loc[~mask].to_json(\"../data/test.json\")"
   ]
  },
  {
   "cell_type": "markdown",
   "metadata": {},
   "source": [
    "# Modeling"
   ]
  },
  {
   "cell_type": "code",
   "execution_count": 4,
   "metadata": {},
   "outputs": [],
   "source": [
    "train = pd.read_json(\"../data/train.json\")\n",
    "test = pd.read_json(\"../data/test.json\")"
   ]
  },
  {
   "cell_type": "code",
   "execution_count": 5,
   "metadata": {},
   "outputs": [],
   "source": [
    "from sklearn.preprocessing import StandardScaler, PolynomialFeatures\n",
    "from sklearn.linear_model import LogisticRegression\n",
    "from sklearn.model_selection import train_test_split\n",
    "from sklearn.pipeline import Pipeline"
   ]
  },
  {
   "cell_type": "code",
   "execution_count": 6,
   "metadata": {},
   "outputs": [],
   "source": [
    "X = d.iloc[:,:4].values\n",
    "y = d.iloc[:,4].values\n",
    "\n",
    "Xt, Xv, yt, yv = train_test_split(X, y)"
   ]
  },
  {
   "cell_type": "code",
   "execution_count": 7,
   "metadata": {},
   "outputs": [
    {
     "data": {
      "text/plain": [
       "Pipeline(steps=[('normalizer', StandardScaler()),\n",
       "                ('power_features', PolynomialFeatures()),\n",
       "                ('logistic', LogisticRegression(C=1, multi_class='ovr'))])"
      ]
     },
     "execution_count": 7,
     "metadata": {},
     "output_type": "execute_result"
    }
   ],
   "source": [
    "pipeline = Pipeline(\n",
    "    steps=[\n",
    "        ('normalizer', StandardScaler()), \n",
    "        ('power_features', PolynomialFeatures()),\n",
    "        ('logistic', LogisticRegression(C=1, multi_class='ovr'))\n",
    "    ])\n",
    "pipeline.fit(Xt, yt)"
   ]
  },
  {
   "cell_type": "code",
   "execution_count": 8,
   "metadata": {},
   "outputs": [],
   "source": [
    "pt = pipeline.predict(Xt)\n",
    "pv = pipeline.predict(Xv)"
   ]
  },
  {
   "cell_type": "code",
   "execution_count": 9,
   "metadata": {},
   "outputs": [
    {
     "name": "stdout",
     "output_type": "stream",
     "text": [
      "Confusion train: \n",
      " [[37  0  0]\n",
      " [ 0 38  1]\n",
      " [ 0  1 35]]\n",
      "\n",
      "Confusion validation: \n",
      " [[13  0  0]\n",
      " [ 0  8  3]\n",
      " [ 0  2 12]]\n"
     ]
    }
   ],
   "source": [
    "from sklearn import metrics\n",
    "\n",
    "print(\"Confusion train: \\n\", metrics.confusion_matrix(yt, pt))\n",
    "print(\"\\nConfusion validation: \\n\", metrics.confusion_matrix(yv, pv))"
   ]
  },
  {
   "cell_type": "code",
   "execution_count": 10,
   "metadata": {},
   "outputs": [],
   "source": [
    "import pickle\n",
    "\n",
    "with open(\"../models/lr1.pickle\", \"wb\") as f:\n",
    "    pickle.dump(pipeline, f)"
   ]
  },
  {
   "cell_type": "code",
   "execution_count": 11,
   "metadata": {},
   "outputs": [],
   "source": [
    "import pickle\n",
    "\n",
    "from sklearn.preprocessing import StandardScaler, PolynomialFeatures\n",
    "from sklearn.linear_model import LogisticRegression\n",
    "from sklearn.pipeline import Pipeline\n",
    "# from sklearn.model_selection import train_test_split\n",
    "\n",
    "with open(\"../models/lr1.pickle\", \"rb\") as f:\n",
    "    m = pickle.load(f)"
   ]
  }
 ],
 "metadata": {
  "kernelspec": {
   "display_name": "Python 3",
   "language": "python",
   "name": "python3"
  },
  "language_info": {
   "codemirror_mode": {
    "name": "ipython",
    "version": 3
   },
   "file_extension": ".py",
   "mimetype": "text/x-python",
   "name": "python",
   "nbconvert_exporter": "python",
   "pygments_lexer": "ipython3",
   "version": "3.8.0"
  }
 },
 "nbformat": 4,
 "nbformat_minor": 2
}
